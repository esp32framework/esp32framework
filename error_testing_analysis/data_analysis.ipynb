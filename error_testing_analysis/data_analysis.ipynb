{
 "cells": [
  {
   "cell_type": "code",
   "execution_count": null,
   "metadata": {},
   "outputs": [],
   "source": [
    "import pandas as pd\n",
    "import matplotlib.pyplot as plt\n",
    "import numpy as np\n"
   ]
  },
  {
   "cell_type": "code",
   "execution_count": null,
   "metadata": {},
   "outputs": [],
   "source": [
    "def error_by_ratio(df, title):\n",
    "    plt.plot(df['ratio'], df['error'])\n",
    "    plt.ylabel('Media de Error')\n",
    "    plt.xlabel('Ratio')\n",
    "    plt.title(title)"
   ]
  },
  {
   "cell_type": "markdown",
   "metadata": {},
   "source": [
    "# Error analysis"
   ]
  },
  {
   "cell_type": "markdown",
   "metadata": {},
   "source": [
    "## Reading error by ratio"
   ]
  },
  {
   "cell_type": "code",
   "execution_count": null,
   "metadata": {},
   "outputs": [],
   "source": [
    "analog_data_3 = pd.read_csv('./analog_in_pwm_data/analog_pwm_data_3.txt')"
   ]
  },
  {
   "cell_type": "code",
   "execution_count": null,
   "metadata": {},
   "outputs": [],
   "source": [
    "analog_data_3['error'] = analog_data_3['read_val'] - analog_data_3['ratio']\n",
    "config_5000 = analog_data_3[(analog_data_3['frequency_out'] == 10000) & (analog_data_3['frequency_in'] == 5000)]\n",
    "config_5000 = config_5000.groupby('ratio')['error'].mean().reset_index()\n",
    "error_by_ratio(config_5000, 'Error de lectura por ratio (In frec. = 5000 Hz)')"
   ]
  },
  {
   "cell_type": "code",
   "execution_count": null,
   "metadata": {},
   "outputs": [],
   "source": [
    "config_10000 = analog_data_3[(analog_data_3['frequency_out'] == 10000) & (analog_data_3['frequency_in'] == 10000)]\n",
    "config_10000 = config_10000.groupby('ratio')['error'].mean().reset_index()\n",
    "error_by_ratio(config_10000, 'Error de lectura por ratio (In frec. = 10000 Hz)')"
   ]
  },
  {
   "cell_type": "code",
   "execution_count": null,
   "metadata": {},
   "outputs": [],
   "source": [
    "config_20000 = analog_data_3[(analog_data_3['frequency_out'] == 10000) & (analog_data_3['frequency_in'] == 20000)]\n",
    "config_20000 = config_20000.groupby('ratio')['error'].mean().reset_index()\n",
    "error_by_ratio(config_20000, 'Error de lectura por ratio (In frec. = 20000 Hz)')"
   ]
  },
  {
   "cell_type": "code",
   "execution_count": null,
   "metadata": {},
   "outputs": [],
   "source": [
    "config_40000 = analog_data_3[(analog_data_3['frequency_out'] == 10000) & (analog_data_3['frequency_in'] == 40000)]\n",
    "config_40000 = config_40000.groupby('ratio')['error'].mean().reset_index()\n",
    "error_by_ratio(config_40000, 'Error de lectura por ratio (In frec. = 40000 Hz)')"
   ]
  },
  {
   "cell_type": "code",
   "execution_count": null,
   "metadata": {},
   "outputs": [],
   "source": [
    "error_by_ratio(config_5000, '')\n",
    "error_by_ratio(config_10000, '')\n",
    "plt.legend(['In frec. = 5000 Hz', 'In frec. = 10000 Hz'])\n",
    "plt.title('Error de lectura por ratio.')"
   ]
  },
  {
   "cell_type": "code",
   "execution_count": null,
   "metadata": {},
   "outputs": [],
   "source": [
    "error_by_ratio(config_10000, '')\n",
    "error_by_ratio(config_20000, '')\n",
    "plt.legend(['In frec. = 10000 Hz', 'In frec. = 20000 Hz'])\n",
    "plt.title('Error de lectura por ratio.')"
   ]
  },
  {
   "cell_type": "code",
   "execution_count": null,
   "metadata": {},
   "outputs": [],
   "source": [
    "error_by_ratio(config_10000, '')\n",
    "error_by_ratio(config_40000, '')\n",
    "plt.legend(['In frec. = 10000 Hz', 'In frec. = 40000 Hz'])\n",
    "plt.title('Error de lectura por ratio.')"
   ]
  },
  {
   "cell_type": "code",
   "execution_count": null,
   "metadata": {},
   "outputs": [],
   "source": [
    "error_by_ratio(config_20000, '')\n",
    "error_by_ratio(config_40000, '')\n",
    "plt.legend(['In frec. = 20000 Hz', 'In frec. = 40000 Hz'])\n",
    "plt.title('Error de lectura por ratio.')"
   ]
  },
  {
   "cell_type": "code",
   "execution_count": null,
   "metadata": {},
   "outputs": [],
   "source": [
    "fig = plt.figure()\n",
    "gs = fig.add_gridspec(4, hspace=0)\n",
    "axs = gs.subplots(sharex=True, sharey=True)\n",
    "fig.suptitle('Sharing both axes')\n",
    "\n",
    "axs[0].plot(config_5000['ratio'], config_5000['error'])\n",
    "axs[1].plot(config_10000['ratio'], config_10000['error'])\n",
    "axs[2].plot(config_20000['ratio'], config_20000['error'])\n",
    "axs[3].plot(config_40000['ratio'], config_40000['error'])"
   ]
  },
  {
   "cell_type": "code",
   "execution_count": null,
   "metadata": {},
   "outputs": [],
   "source": [
    "plt.hist(analog_data_3['error'], bins=20, edgecolor='black')\n",
    "plt.title('Frecuencia del error de lectura')\n",
    "plt.xlabel('Error de lectura')\n",
    "plt.ylabel('Frecuencia')\n",
    "plt.show()"
   ]
  },
  {
   "cell_type": "code",
   "execution_count": null,
   "metadata": {},
   "outputs": [],
   "source": [
    "# 10 and 10\n",
    "config_10000_hist = analog_data_3[analog_data_3['frequency_in'] == 10000]\n",
    "# 10 and 5\n",
    "config_5000_hist = analog_data_3[analog_data_3['frequency_in'] == 5000]\n",
    "# 10 and 20\n",
    "config_20000_hist = analog_data_3[analog_data_3['frequency_in'] == 20000]\n",
    "# 10 and 40\n",
    "config_40000_hist = analog_data_3[analog_data_3['frequency_in'] == 40000]\n",
    "\n",
    "\n",
    "fig, axs = plt.subplots(2, 2)\n",
    "axs[0, 0].hist(config_5000_hist['error'], bins=20)\n",
    "axs[0, 0].set(ylabel= 'Frecuencia')\n",
    "axs[0, 0].set_title('In frec. 5000 Hz')\n",
    "\n",
    "axs[0, 1].hist(config_10000_hist['error'], bins=20)\n",
    "axs[0, 1].set_title('In frec. 10000 Hz')\n",
    "\n",
    "axs[1, 0].hist(config_20000_hist['error'], bins=20)\n",
    "axs[1, 0].set(xlabel= 'Error de lectura', ylabel='Frecuencia')\n",
    "axs[1, 0].set_title('In frec. 20000 Hz')\n",
    "\n",
    "axs[1, 1].hist(config_40000_hist['error'], bins=20)\n",
    "axs[1, 1].set(xlabel= 'Error de lectura')\n",
    "axs[1, 1].set_title('In frec. 40000 Hz')\n",
    "fig.tight_layout(pad=2.0)\n",
    "\n",
    "\n",
    "\n"
   ]
  },
  {
   "cell_type": "code",
   "execution_count": null,
   "metadata": {},
   "outputs": [],
   "source": [
    "plt.hist(config_10000_hist['error'], bins=20)\n",
    "plt.hist(config_20000_hist['error'], bins=20)"
   ]
  }
 ],
 "metadata": {
  "kernelspec": {
   "display_name": "Python 3",
   "language": "python",
   "name": "python3"
  },
  "language_info": {
   "codemirror_mode": {
    "name": "ipython",
    "version": 3
   },
   "file_extension": ".py",
   "mimetype": "text/x-python",
   "name": "python",
   "nbconvert_exporter": "python",
   "pygments_lexer": "ipython3",
   "version": "3.10.12"
  }
 },
 "nbformat": 4,
 "nbformat_minor": 2
}
